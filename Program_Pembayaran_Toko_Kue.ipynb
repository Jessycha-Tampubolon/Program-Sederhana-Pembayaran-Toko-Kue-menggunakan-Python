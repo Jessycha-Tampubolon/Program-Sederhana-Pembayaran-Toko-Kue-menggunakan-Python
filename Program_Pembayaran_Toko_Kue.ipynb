{
  "nbformat": 4,
  "nbformat_minor": 0,
  "metadata": {
    "colab": {
      "name": "Program Pembayaran Toko Kue.ipynb",
      "provenance": []
    },
    "kernelspec": {
      "name": "python3",
      "display_name": "Python 3"
    },
    "language_info": {
      "name": "python"
    }
  },
  "cells": [
    {
      "cell_type": "code",
      "metadata": {
        "colab": {
          "base_uri": "https://localhost:8080/"
        },
        "id": "P6bgknHXtpKZ",
        "outputId": "e224dd7c-ec46-4fbe-fd67-88800b616045"
      },
      "source": [
        "print(\"Toko Legit Bakery\")"
      ],
      "execution_count": 1,
      "outputs": [
        {
          "output_type": "stream",
          "name": "stdout",
          "text": [
            "Toko Legit Bakery\n"
          ]
        }
      ]
    },
    {
      "cell_type": "code",
      "metadata": {
        "colab": {
          "base_uri": "https://localhost:8080/"
        },
        "id": "oKvnCwEDuUz_",
        "outputId": "b00b40c3-f03a-4b01-a930-e087341db848"
      },
      "source": [
        " #No1, No2, No3 dan No4 adalah variabbel\n",
        " # untuk memanggil variabel, perlu adanya (=) dibelakang\n",
        " # str untuk inputan huruf, \n",
        " # int untuk inputan berupa nilai.\n",
        "No1= str(input(\"nama kue : \"))\n",
        "No2= int(input(\"harga kue: \"))\n",
        "No3= int(input(\"jumlah kue yang dibeli: \"))\n",
        "No4= int(input(\"jumlah uang yang dibayar: \"))"
      ],
      "execution_count": 3,
      "outputs": [
        {
          "name": "stdout",
          "output_type": "stream",
          "text": [
            "nama kue : oreo cheese cake\n",
            "harga kue: 12000\n",
            "jumlah kue yang dibeli: 2\n",
            "jumlah uang yang dibayar: 100000\n"
          ]
        }
      ]
    },
    {
      "cell_type": "code",
      "metadata": {
        "id": "b6Vlqz_Ju8Am"
      },
      "source": [
        "# Total pembayaran\n",
        "Bayar = (No2*No3-No4)"
      ],
      "execution_count": 4,
      "outputs": []
    },
    {
      "cell_type": "code",
      "metadata": {
        "colab": {
          "base_uri": "https://localhost:8080/"
        },
        "id": "TMgo_V_dvnZn",
        "outputId": "64df465e-e306-4952-b387-02b042e8e147"
      },
      "source": [
        "# Menampilkan total jumlah kembalian\n",
        "print(\"Kembalian: \",\"Rp.\",Bayar)"
      ],
      "execution_count": 5,
      "outputs": [
        {
          "output_type": "stream",
          "name": "stdout",
          "text": [
            "Kembalian:  Rp. -76000\n"
          ]
        }
      ]
    }
  ]
}